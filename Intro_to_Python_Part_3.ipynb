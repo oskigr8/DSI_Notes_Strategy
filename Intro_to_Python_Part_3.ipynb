{
  "nbformat": 4,
  "nbformat_minor": 0,
  "metadata": {
    "colab": {
      "name": "Intro to Python Part 3",
      "provenance": [],
      "collapsed_sections": [],
      "include_colab_link": true
    },
    "kernelspec": {
      "name": "python3",
      "display_name": "Python 3"
    }
  },
  "cells": [
    {
      "cell_type": "markdown",
      "metadata": {
        "id": "view-in-github",
        "colab_type": "text"
      },
      "source": [
        "<a href=\"https://colab.research.google.com/github/oskigr8/DSI_Notes_Strategy/blob/master/Intro_to_Python_Part_3.ipynb\" target=\"_parent\"><img src=\"https://colab.research.google.com/assets/colab-badge.svg\" alt=\"Open In Colab\"/></a>"
      ]
    },
    {
      "cell_type": "code",
      "metadata": {
        "id": "LTlDmILkJfRz"
      },
      "source": [
        "# some libraries we will use\n",
        "import pandas as pd\n",
        "import numpy as np\n",
        "from collections import Counter\n",
        "from itertools import permutations  \n",
        "from math import factorial\n",
        "import random"
      ],
      "execution_count": null,
      "outputs": []
    },
    {
      "cell_type": "markdown",
      "metadata": {
        "id": "9QdyeWwNJ9KV"
      },
      "source": [
        "# Welcome to Intro to Python part 3\n",
        "\n",
        "In this session, we will first be briefly covering some of the common objects leveraged in data science with Python that you were not exposed to in part 1 and part 2. These are specifically iterators and generators. \n",
        "\n",
        "An iterator is an object that enables a programmer to traverse a container, particularly lists and arrays. Similar to functions which return arrays, Generators are routines which leverage that functionality in order to return only a yielded subset of an array. \n",
        "\n",
        "After touching on these concepts, we will begin our introduction to using math and statistics in python. This will break down as follows:\n",
        "- Operators and their uses\n",
        "- Basic statistics (measures of central tendency, 5 measure summary, standard deviation, and variance)\n",
        "- Sets (set attributes, permutations, combinations, and factorials)\n",
        "- Basic Probability (frequentist theory )\n",
        "- Common plots (matplotlib.pyplot library demo)"
      ]
    },
    {
      "cell_type": "markdown",
      "metadata": {
        "id": "sCjS9_wUSPsK"
      },
      "source": [
        "# Iterators\n",
        "\n",
        "### What are iterators? \n",
        "\n",
        "There are three key parts to python iterators:\n",
        "- An iterator is an object that contains a countable number of values.\n",
        "\n",
        "- An iterator is an object that can be iterated upon, meaning that you can traverse through all the values.\n",
        "\n",
        "```\n",
        "- In Python, an iterator is an object which implements the iterator protocol, which consist of the methods __iter__()\" and __next__().\n",
        "```\n",
        "\n",
        "\n",
        "### What can we use them for?\n",
        "\n",
        "iterators leverage the concept of lazy evaluation. What that means is, the iterator only perform computations as explicitly directed on a subset of the data. This is extremely useful if you have an excessively Big Data set. You can perform analyses on a subset of the data using a generator while the rest of the data loads in. \n"
      ]
    },
    {
      "cell_type": "code",
      "metadata": {
        "id": "e_gGHkYNTeqB"
      },
      "source": [
        "# Here is a simple prime number checking function. we will use this after we create the iterator\n",
        "def check_prime(number):    \n",
        "  for divisor in range(2, int(number ** 0.5) + 1):       \n",
        "     if number % divisor == 0:            \n",
        "       return False    \n",
        "     return True\n",
        "\n",
        "# instantiate primes class\n",
        "# It has __iter__() and __next__() magic methods because, in python, an iterator \n",
        "# class requires their inclusion in order to perform iteration\n",
        "\n",
        "class Primes:    \n",
        "  def __init__(self, max):        \n",
        "    self.max = max        \n",
        "    self.number = 1\n",
        "# Watch what happens when i hash out the magic methods, below \n",
        "  def __iter__(self):\n",
        "    return self\n",
        "  def __next__(self):\n",
        "    self.number += 1        \n",
        "    if self.number >= self.max:            \n",
        "      raise StopIteration        \n",
        "    elif check_prime(self.number):            \n",
        "      return self.number        \n",
        "    else:            \n",
        "      return self.__next__()\n"
      ],
      "execution_count": null,
      "outputs": []
    },
    {
      "cell_type": "code",
      "metadata": {
        "colab": {
          "base_uri": "https://localhost:8080/",
          "height": 232
        },
        "id": "pkrwzrtOTnqu",
        "outputId": "45443199-3e9a-4ea9-e806-148f7a1e2003"
      },
      "source": [
        "primes = Primes(20)\n",
        "\n",
        "# Print out the object itself\n",
        "\n",
        "print(primes) \n",
        "\n",
        "# use iteration to get individual entries from generator\n",
        "for x in primes:    \n",
        "  print(x)"
      ],
      "execution_count": null,
      "outputs": [
        {
          "output_type": "stream",
          "text": [
            "<__main__.Primes object at 0x7f6a0c4ec810>\n"
          ],
          "name": "stdout"
        },
        {
          "output_type": "error",
          "ename": "TypeError",
          "evalue": "ignored",
          "traceback": [
            "\u001b[0;31m---------------------------------------------------------------------------\u001b[0m",
            "\u001b[0;31mTypeError\u001b[0m                                 Traceback (most recent call last)",
            "\u001b[0;32m<ipython-input-100-cb37efd71e58>\u001b[0m in \u001b[0;36m<module>\u001b[0;34m()\u001b[0m\n\u001b[1;32m      6\u001b[0m \u001b[0;34m\u001b[0m\u001b[0m\n\u001b[1;32m      7\u001b[0m \u001b[0;31m# use iteration to get individual entries from generator\u001b[0m\u001b[0;34m\u001b[0m\u001b[0;34m\u001b[0m\u001b[0;34m\u001b[0m\u001b[0m\n\u001b[0;32m----> 8\u001b[0;31m \u001b[0;32mfor\u001b[0m \u001b[0mx\u001b[0m \u001b[0;32min\u001b[0m \u001b[0mprimes\u001b[0m\u001b[0;34m:\u001b[0m\u001b[0;34m\u001b[0m\u001b[0;34m\u001b[0m\u001b[0m\n\u001b[0m\u001b[1;32m      9\u001b[0m   \u001b[0mprint\u001b[0m\u001b[0;34m(\u001b[0m\u001b[0mx\u001b[0m\u001b[0;34m)\u001b[0m\u001b[0;34m\u001b[0m\u001b[0;34m\u001b[0m\u001b[0m\n",
            "\u001b[0;31mTypeError\u001b[0m: 'Primes' object is not iterable"
          ]
        }
      ]
    },
    {
      "cell_type": "markdown",
      "metadata": {
        "id": "sx26jdUkKlBj"
      },
      "source": [
        "# Generators\n",
        "\n",
        "### What are Generators?\n",
        "Generator functions allow the declaration of a function that behaves like an iterator. \n",
        "\n",
        "Courtesy of [Wikipedia](https://en.wikipedia.org/wiki/Generator_(computer_programming)) \"A generator is very similar to a function that returns an array, in that a generator has parameters, can be called, and generates a sequence of values. However, instead of building an array containing all the values and returning them all at once, a generator yields the values one at a time, which requires less memory and allows the caller to get started processing the first few values immediately. In short, a generator looks like a function but behaves like an iterator.\"\n",
        "\n",
        "Another key difference is the \"yield\" statement, which is called in place of return for generator functions. While \"return\" will terminate a function entirely, yield instead pauses the function, preserving its states, and allowing for the function to pick up again following another yield. Unlike normal functions, the local variables are not destroyed when the function yields. \n",
        "\n",
        "Furthermore, the generator object can be iterated only once. Therefore, you need to reinstantiate a function in order to restart the generation. if you get the 'StopIteration:' error message, this is what happened.\n",
        "\n",
        "### What can we use them for? \n",
        "\n",
        "### Resources for generators:\n",
        "- https://wiki.python.org/moin/Generators\n",
        "- https://realpython.com/introduction-to-python-generators/#example-1-reading-large-files\n",
        "- https://www.programiz.com/python-programming/generator\n",
        "\n",
        "\n"
      ]
    },
    {
      "cell_type": "code",
      "metadata": {
        "id": "96KXqtj-LG3i"
      },
      "source": [
        "def simple_gen():\n",
        "    n = 'This is printed first'\n",
        "    yield n\n",
        "\n",
        "    n = 'This is printed second'\n",
        "    yield n\n",
        "\n",
        "    n = 'This is printed at last'\n",
        "    yield n"
      ],
      "execution_count": null,
      "outputs": []
    },
    {
      "cell_type": "code",
      "metadata": {
        "colab": {
          "base_uri": "https://localhost:8080/"
        },
        "id": "Wf5nEMzUL1Qc",
        "outputId": "84116ca5-6520-44e6-9902-85ef7ede1bcb"
      },
      "source": [
        "# instantiate function call\n",
        "a = simple_gen()\n",
        "\n",
        "# use 'next' method to advance the iteration of the generator. has to be done at each step\n",
        "print(next(a))\n",
        "# use 'next' method to advance the iteration of the generator\n",
        "print(next(a))\n",
        "# use 'next' method to advance the iteration of the generator\n",
        "print(next(a))\n",
        "\n"
      ],
      "execution_count": null,
      "outputs": [
        {
          "output_type": "stream",
          "text": [
            "This is printed first\n",
            "This is printed second\n",
            "This is printed at last\n"
          ],
          "name": "stdout"
        }
      ]
    },
    {
      "cell_type": "code",
      "metadata": {
        "colab": {
          "base_uri": "https://localhost:8080/",
          "height": 198
        },
        "id": "O3zl29LrL2Ui",
        "outputId": "bba89105-cea7-4450-fbbf-9e2a40dec68c"
      },
      "source": [
        "# What would happen if i tried to call next(a) again?\n",
        "\n",
        "next(a)"
      ],
      "execution_count": null,
      "outputs": [
        {
          "output_type": "error",
          "ename": "StopIteration",
          "evalue": "ignored",
          "traceback": [
            "\u001b[0;31m---------------------------------------------------------------------------\u001b[0m",
            "\u001b[0;31mStopIteration\u001b[0m                             Traceback (most recent call last)",
            "\u001b[0;32m<ipython-input-107-605e5a540e44>\u001b[0m in \u001b[0;36m<module>\u001b[0;34m()\u001b[0m\n\u001b[1;32m      1\u001b[0m \u001b[0;31m# What would happen if i tried to call next(a) again?\u001b[0m\u001b[0;34m\u001b[0m\u001b[0;34m\u001b[0m\u001b[0;34m\u001b[0m\u001b[0m\n\u001b[1;32m      2\u001b[0m \u001b[0;34m\u001b[0m\u001b[0m\n\u001b[0;32m----> 3\u001b[0;31m \u001b[0mnext\u001b[0m\u001b[0;34m(\u001b[0m\u001b[0ma\u001b[0m\u001b[0;34m)\u001b[0m\u001b[0;34m\u001b[0m\u001b[0;34m\u001b[0m\u001b[0m\n\u001b[0m",
            "\u001b[0;31mStopIteration\u001b[0m: "
          ]
        }
      ]
    },
    {
      "cell_type": "code",
      "metadata": {
        "id": "GIGYarkbNQ8J"
      },
      "source": [
        "# Heres another example not derived from one of those links i shared\n",
        "# As you can see, generators can be situationally very useful \n",
        "# for reducing computational cost. an infinite sequence like this is a good example\n",
        "def fibonacci_sequence():\n",
        "    n1, n2 = 0, 1\n",
        "    count = 0\n",
        "    while count == 0:\n",
        "      yield n1\n",
        "      count +=1\n",
        "    while count != 0:\n",
        "          output = n1\n",
        "          nth = n1 + n2\n",
        "          n1 = n2\n",
        "          n2 = nth\n",
        "          count += 1\n",
        "          yield output\n",
        "          \n",
        "\n",
        "b = fibonacci_sequence()"
      ],
      "execution_count": null,
      "outputs": []
    },
    {
      "cell_type": "code",
      "metadata": {
        "colab": {
          "base_uri": "https://localhost:8080/"
        },
        "id": "0AATO_e2QBUR",
        "outputId": "21e7cfd3-5425-4715-b499-f199572f85ba"
      },
      "source": [
        "for i in range(10):\n",
        "  print(next(b))"
      ],
      "execution_count": null,
      "outputs": [
        {
          "output_type": "stream",
          "text": [
            "0\n",
            "0\n",
            "1\n",
            "1\n",
            "2\n",
            "3\n",
            "5\n",
            "8\n",
            "13\n",
            "21\n"
          ],
          "name": "stdout"
        }
      ]
    },
    {
      "cell_type": "markdown",
      "metadata": {
        "id": "aHo7uOWHXT4A"
      },
      "source": [
        "# Using Python for Statistics and Math\n",
        "\n",
        "Python is arguably one of the best languages for performing mathematical analyses and calculations. Python has numerous built in functionalities and libraries that are meant for this purpose. \n",
        "\n",
        "Some libraries to check out and explore on your own for math and stats:\n",
        "- math\n",
        "- scipy\n",
        "- numpy\n",
        "- scikit-learn\n",
        "\n"
      ]
    },
    {
      "cell_type": "markdown",
      "metadata": {
        "id": "zly2XqVhPOwm"
      },
      "source": [
        "##Operators in python:\n",
        "\n",
        "###Arithmetic operators\n",
        "most of the mathematical operators you are familiar with will be conserved within python. lets look at the common operators and their associated represenations in Python:\n",
        "- Plus is '+'\n",
        "- Minus is '-'\n",
        "- Multiplication is '*'\n",
        "- Division is '/'\n",
        "- Exponents are represented by '**' example: 3xx2 = 9\n",
        "- Modulo is '%'. this operator returns the remainder of the division between the two numbers. example: 5 % 3 = 2 because 5 divides evenly into groups of 3 exactly 1 time, and that leaves a remainder of 2. \n",
        "- Floor division is represented by '//' and it gives you the result of division without a remainder. example: 5//3 = 1 because 5 divides evenly into groups of 3 exactly 1 time. The remainder 2 is not of concern. \n",
        "\n",
        "\n"
      ]
    },
    {
      "cell_type": "code",
      "metadata": {
        "colab": {
          "base_uri": "https://localhost:8080/"
        },
        "id": "imfp3cK5aYyE",
        "outputId": "50858f5f-016e-41cd-cc5c-0888de808b34"
      },
      "source": [
        "# Operators in python:\n",
        "# Arithmetic operators\n",
        "# most of the mathematical operators you are familiar with will be conserved within python\n",
        "# lets look at the common operators:\n",
        "\n",
        "# Plus is '+'\n",
        "print(f'the addition operator, plus, is used for 3 + 2 to equal {3+2} \\n') #<-fun tip, use \\n with strings to go to the next line \n",
        "# Minus is '-'\n",
        "print(f'the subtraction operator, minus, is used for 3 - 2 to equal {3-2} \\n')\n",
        "# Multiplication is '*'\n",
        "print(f'the multiplication operator, multiply by, is used for 3 * 2 to equal {3*2} \\n')\n",
        "# Division is '/'\n",
        "print(f'the division operator, divided by, is used for 3 / 2 to equal {3/2} \\n')\n",
        "# Exponents are represented with '**'\n",
        "print(f'the exponential operator, **, is used for 3 ** 2 to equal {3**2} \\n')\n",
        "\n",
        "# modulo is '%'. this operator returns the remainder of the division between the two numbers\n",
        "print(f'the modulo operator is used for 5 % 3 to equal {5%3} \\n')\n",
        "# floor division is represented by '//' and it gives you the result of division without a remainder\n",
        "print(f'the floor division operator, //, is used for 5 // 3 to equal {5//3}')"
      ],
      "execution_count": null,
      "outputs": [
        {
          "output_type": "stream",
          "text": [
            "the addition operator, plus, is used for 3 + 2 to equal 5 \n",
            "\n",
            "the subtraction operator, minus, is used for 3 - 2 to equal 1 \n",
            "\n",
            "the multiplication operator, multiply by, is used for 3 * 2 to equal 6 \n",
            "\n",
            "the division operator, divided by, is used for 3 / 2 to equal 1.5 \n",
            "\n",
            "the exponential operator, **, is used for 3 ** 2 to equal 9 \n",
            "\n",
            "the modulo operator is used for 5 % 3 to equal 2 \n",
            "\n",
            "the floor division operator, //, is used for 5 // 3 to equal 1\n"
          ],
          "name": "stdout"
        }
      ]
    },
    {
      "cell_type": "code",
      "metadata": {
        "colab": {
          "base_uri": "https://localhost:8080/"
        },
        "id": "0Lc82Ds_dHUH",
        "outputId": "5558e641-1cdf-42fa-e9d4-0dde81a1725c"
      },
      "source": [
        "# Assignment operators: these are used to assign values/update values to variables\n",
        "# equal sign is represented by \"=\". Remember that the = sign often tests for \n",
        "# boolean truth when used in compsci\n",
        "\n",
        "# the equal to operator, =, is used for 2+3 = 5 to show the result of an equation\n",
        "\n",
        "# Plus equal sign means that you take the variables assigned value and add to it\n",
        "\n",
        "x = 1\n",
        "x += 2\n",
        "print(f'x += 2 is equal to {x} \\n') \n",
        "\n",
        "# the reverse is true for the minus equal sign\n",
        "\n",
        "y = 2\n",
        "y -= 1\n",
        "print(f'2 -= 1 is equal to {y} \\n')\n",
        "\n",
        "# this can also be applied to multiplication..\n",
        "\n",
        "z = 3\n",
        "z *= 2\n",
        "print(f'z *= 2 is equal to {z} \\n')\n",
        "\n",
        "# and division\n",
        "z /= 2\n",
        "print(f'z /= 2 is equal to {z}')\n"
      ],
      "execution_count": null,
      "outputs": [
        {
          "output_type": "stream",
          "text": [
            "x += 2 is equal to 3 \n",
            "\n",
            "2 -= 1 is equal to 1 \n",
            "\n",
            "z *= 2 is equal to 6 \n",
            "\n",
            "z /= 2 is equal to 3.0\n"
          ],
          "name": "stdout"
        }
      ]
    },
    {
      "cell_type": "code",
      "metadata": {
        "colab": {
          "base_uri": "https://localhost:8080/"
        },
        "id": "XzAviapxnSuQ",
        "outputId": "baf7cad8-6e4a-4ce9-b269-383767d9ca23"
      },
      "source": [
        "round(1/3,2)"
      ],
      "execution_count": null,
      "outputs": [
        {
          "output_type": "execute_result",
          "data": {
            "text/plain": [
              "0.33"
            ]
          },
          "metadata": {
            "tags": []
          },
          "execution_count": 113
        }
      ]
    },
    {
      "cell_type": "markdown",
      "metadata": {
        "id": "m26TJy_b8V0x"
      },
      "source": [
        "# Basic functions: measures of central tendency\n",
        "A good place to start with using math with python are measures of central tendency.\n",
        "\n",
        "heres a simple list of all the numbers between 1 and 10:\n"
      ]
    },
    {
      "cell_type": "code",
      "metadata": {
        "colab": {
          "base_uri": "https://localhost:8080/"
        },
        "id": "GnHnqtdWYT7p",
        "outputId": "f07aac32-b423-4fa9-e73a-9d886b96add3"
      },
      "source": [
        "lst = [1,2,3,4,5,6,7,8,9,10]\n",
        "\n",
        "# lets start by calculating the mean. what is a mean?\n",
        "\n",
        "# Mean: the mean function outputs the average of the numbers in an array\n",
        "\n",
        "def mean(lst):\n",
        "  output = 0\n",
        "  for i in lst:\n",
        "    output += i\n",
        "  return output/(len(lst))\n",
        "\n",
        "# question: what is the mean of lst?\n",
        "mean(lst)\n"
      ],
      "execution_count": null,
      "outputs": [
        {
          "output_type": "execute_result",
          "data": {
            "text/plain": [
              "5.5"
            ]
          },
          "metadata": {
            "tags": []
          },
          "execution_count": 114
        }
      ]
    },
    {
      "cell_type": "code",
      "metadata": {
        "id": "iC7ciMPwYsU_",
        "colab": {
          "base_uri": "https://localhost:8080/"
        },
        "outputId": "122dc3cd-43e3-4f1c-9aa4-e469c2053b10"
      },
      "source": [
        "# Mode: the mode is the most common object in a list of objects. \n",
        "\n",
        "def my_mode(sample):\n",
        "  c = Counter(sample)\n",
        "  return [k for k, v in c.items() if v == c.most_common(1)[0][1]]\n",
        "\n",
        "\n",
        "lst = ['James', 'john', 'john', 'james', 'john', 'James']\n",
        "\n",
        "# Question: what is the mode of lst?\n",
        "my_mode(lst)"
      ],
      "execution_count": null,
      "outputs": [
        {
          "output_type": "execute_result",
          "data": {
            "text/plain": [
              "['john']"
            ]
          },
          "metadata": {
            "tags": []
          },
          "execution_count": 115
        }
      ]
    },
    {
      "cell_type": "code",
      "metadata": {
        "colab": {
          "base_uri": "https://localhost:8080/"
        },
        "id": "LVJOhWxhY5uv",
        "outputId": "136f0cd1-1fed-470a-986b-9952080809ff"
      },
      "source": [
        "# The median: the median is the central object is the number that is in the center of an ordered list.\n",
        "# You need to approach median with the consideration of length of the array: \n",
        "# an even length array will take the mean of the two central objects.\n",
        "#  in this case, 6+5/2 = 5.5 so our mean is qual to our median\n",
        "# an odd length array simply takes the central object\n",
        "\n",
        "samp2 = [1,3,2,4,3,7,8,1,2,3]\n",
        "\n",
        "def median(lst):\n",
        "    length = len(lst)\n",
        "    sorted_lst = sorted(lst)\n",
        "    # Lists with an odd number of items in the list\n",
        "    if length % 2 != 0:\n",
        "        idx = (length / 2 + .5) - 1\n",
        "        return sorted_lst[int(idx)]\n",
        "    # Lists with an even number of items in the list\n",
        "    else:\n",
        "        idx1 = int(length / 2 - 1)\n",
        "        idx2 = int(idx1 + 1)\n",
        "        # lets use our new mean function!\n",
        "        return mean([sorted_lst[idx1], sorted_lst[idx2]])\n",
        "\n",
        "\n",
        "# whats the median of samp2?\n",
        "median(samp2)"
      ],
      "execution_count": null,
      "outputs": [
        {
          "output_type": "execute_result",
          "data": {
            "text/plain": [
              "3.0"
            ]
          },
          "metadata": {
            "tags": []
          },
          "execution_count": 118
        }
      ]
    },
    {
      "cell_type": "code",
      "metadata": {
        "colab": {
          "base_uri": "https://localhost:8080/"
        },
        "id": "7nP-RMJtx945",
        "outputId": "9d087727-e66b-4682-ea80-918f0652290b"
      },
      "source": [
        "# len: len is not a measure of central tendency, but seemed relevant to include.\n",
        "# use len to calculate the length of a list, array, etc.\n",
        "\n",
        "lst = [1,2,1,1,1,1,1,1,1,1,1,1,1,1,1,1,1,1,1,1,1,1,1,1,1,1,1,1,1,1,1]\n",
        "\n",
        "len(lst)"
      ],
      "execution_count": null,
      "outputs": [
        {
          "output_type": "execute_result",
          "data": {
            "text/plain": [
              "31"
            ]
          },
          "metadata": {
            "tags": []
          },
          "execution_count": 119
        }
      ]
    },
    {
      "cell_type": "code",
      "metadata": {
        "id": "PjxQzId2ZvDe",
        "colab": {
          "base_uri": "https://localhost:8080/"
        },
        "outputId": "9af09a15-ae2b-4db3-b2e3-89401e54d15d"
      },
      "source": [
        "# Range: range is not a measure of central tendency, but seemed relevant to include.\n",
        "# use range to get all numbers between 2 integers, and it is exclusive. that means \n",
        "# the second number listed will not be included in the range\n",
        "\n",
        "# here are some ways you can use range\n",
        "print(range(0,10))\n",
        "# use list to get all the numbers\n",
        "print(list(range(0,11)))\n",
        "# use len to find the length\n",
        "print(len(range(0,10)))\n",
        "\n"
      ],
      "execution_count": null,
      "outputs": [
        {
          "output_type": "stream",
          "text": [
            "range(0, 10)\n",
            "[0, 1, 2, 3, 4, 5, 6, 7, 8, 9, 10]\n",
            "10\n"
          ],
          "name": "stdout"
        }
      ]
    },
    {
      "cell_type": "code",
      "metadata": {
        "colab": {
          "base_uri": "https://localhost:8080/"
        },
        "id": "OX3hOyH5xgIh",
        "outputId": "b99e7de4-3383-45c8-ccb8-4b2ba9f6eaa0"
      },
      "source": [
        "# The five number summary: This is very useful when performing exploratory data\n",
        "# analysis on a new data set. It gives us the minimum and maximum values, the median, \n",
        "# and the values that represent the endpoints of the various interquartile ranges\n",
        "\n",
        "from numpy import percentile\n",
        "from numpy.random import rand\n",
        "\n",
        "# generate data sample\n",
        "data = rand(1000)\n",
        "\n",
        "# calculate quartiles using numpy's percentile method to get \n",
        "# 25th, 50th, and 75th percentiles: the 1st, 2nd, and third quartile values\n",
        "quartiles = percentile(data, [25, 50, 75])\n",
        "\n",
        "# calculate min/max\n",
        "data_min, data_max = data.min(), data.max()\n",
        "\n",
        "# print 5-number summary\n",
        "\n",
        "print('Min: %.3f' % data_min)\n",
        "print('Q1: %.3f' % quartiles[0])\n",
        "print('Median: %.3f' % quartiles[1])\n",
        "print('Q3: %.3f' % quartiles[2])\n",
        "print('Max: %.3f' % data_max)\n",
        "\n",
        "\n",
        "print(f'this is my {data_max:.2f}')"
      ],
      "execution_count": null,
      "outputs": [
        {
          "output_type": "stream",
          "text": [
            "Min: 0.001\n",
            "Q1: 0.256\n",
            "Median: 0.522\n",
            "Q3: 0.783\n",
            "Max: 1.000\n",
            "this is my 1.00\n"
          ],
          "name": "stdout"
        }
      ]
    },
    {
      "cell_type": "code",
      "metadata": {
        "id": "5EO2KFlBrfjW"
      },
      "source": [
        "from statistics import variance"
      ],
      "execution_count": null,
      "outputs": []
    },
    {
      "cell_type": "code",
      "metadata": {
        "colab": {
          "base_uri": "https://localhost:8080/"
        },
        "id": "kobCd9V5zqh5",
        "outputId": "372f6a9d-721b-4fae-a6a0-202b8fe8ae64"
      },
      "source": [
        "# Variance: A measure of how far from their mean the individual observations in our data are.\n",
        "# Variance reflects how consistent our data is. \n",
        "\n",
        "# for example: low variance data would be: \n",
        "lowv = [1,1,1,1,1,1,1,1,1,1]\n",
        "# high variance data would be\n",
        "highv = [10000,1,5,100000000000,2,36,2887, 12,-150, 29, 413]\n",
        "\n",
        "\n",
        "\n",
        "def variance(data):\n",
        "     # Number of observations\n",
        "     n = len(data)\n",
        "     # Mean of the data\n",
        "     mean = sum(data) / n\n",
        "     # Square deviations\n",
        "     deviations = [(x - mean) ** 2 for x in data]\n",
        "     # Variance\n",
        "     variance = sum(deviations) / n\n",
        "     return variance\n",
        "\n",
        "print(f'the non-existent variance of lowv is {variance(lowv)} \\n')\n",
        "print(f'the absurdly high variance of highv is {variance(highv)}')\n",
        "\n",
        "\n",
        "# Note: this is a calculation of population variance, which considers the entire data set.\n",
        "# if you were to calculate the sample variance, you would need to use \"n-1\" rather than \"n\"\n",
        "# for our calculations to account for a sample of a population's variance \n",
        "# rather than the variance for the entire population"
      ],
      "execution_count": null,
      "outputs": [
        {
          "output_type": "stream",
          "text": [
            "the non-existent variance of lowv is 0.0 \n",
            "\n",
            "the absurdly high variance of highv is 8.264462591157109e+20\n"
          ],
          "name": "stdout"
        }
      ]
    },
    {
      "cell_type": "code",
      "metadata": {
        "colab": {
          "base_uri": "https://localhost:8080/"
        },
        "id": "nN55C6l1ydrb",
        "outputId": "e737f146-0152-4eda-8000-692412c55bb0"
      },
      "source": [
        "# Standard deviation is the square root of the variance and measures \n",
        "# the amount of variation or dispersion of a dataset.\n",
        "\n",
        "# Calculating standard deviation:\n",
        "def std_dev(a):\n",
        "  out = variance(a)\n",
        "  return (out**.5)\n",
        "\n",
        "lst = [3, 5, 2, 7, 1, 3]\n",
        "print(variance(lst))\n",
        "print(variance(lst)**.5)\n",
        "std_dev(lst)\n"
      ],
      "execution_count": null,
      "outputs": [
        {
          "output_type": "stream",
          "text": [
            "4.7\n",
            "2.16794833886788\n"
          ],
          "name": "stdout"
        },
        {
          "output_type": "execute_result",
          "data": {
            "text/plain": [
              "2.16794833886788"
            ]
          },
          "metadata": {
            "tags": []
          },
          "execution_count": 137
        }
      ]
    },
    {
      "cell_type": "markdown",
      "metadata": {
        "id": "Ko2EgV0g8TWh"
      },
      "source": [
        "# Sets: \n",
        "\n",
        "Sets are used to store multiple items in a single variable.\n",
        "\n",
        "Set is one of 4 built-in data types in Python used to store collections of data, the other 3 are List, Tuple, and Dictionary, all with different qualities and usage.\n",
        "\n",
        "A set is a collection which is both unordered and unindexed.\n",
        "\n",
        "Sets are written with curly brackets. ex: {}\n",
        "\n",
        "Sets are hashed collections of data. This means there cannot be repeated instances of an object in a set. This means no set will contain duplicates\n",
        "\n",
        "Once a set is created, you cannot change its items, but you can add new items. \n",
        "\n"
      ]
    },
    {
      "cell_type": "code",
      "metadata": {
        "colab": {
          "base_uri": "https://localhost:8080/"
        },
        "id": "HKIRJMXW9fdF",
        "outputId": "32ff28e4-0a86-4efc-e5f8-84b495487719"
      },
      "source": [
        "# Because sets are unordered, they will automatically sort themselves when output\n",
        "\n",
        "# what will we get when we print the set('hello')?\n",
        "set('hello')"
      ],
      "execution_count": null,
      "outputs": [
        {
          "output_type": "execute_result",
          "data": {
            "text/plain": [
              "{'e', 'h', 'l', 'o'}"
            ]
          },
          "metadata": {
            "tags": []
          },
          "execution_count": 138
        }
      ]
    },
    {
      "cell_type": "code",
      "metadata": {
        "colab": {
          "base_uri": "https://localhost:8080/"
        },
        "id": "c0F2tZRY9mcO",
        "outputId": "d63e6ae8-27c3-4052-9311-3e2e74f7c506"
      },
      "source": [
        "# set methods\n",
        "\n",
        "s = {1,2,3,4,5}\n",
        "\n",
        "s.add(7)\n",
        "s"
      ],
      "execution_count": null,
      "outputs": [
        {
          "output_type": "execute_result",
          "data": {
            "text/plain": [
              "{1, 2, 3, 4, 5, 7}"
            ]
          },
          "metadata": {
            "tags": []
          },
          "execution_count": 139
        }
      ]
    },
    {
      "cell_type": "code",
      "metadata": {
        "colab": {
          "base_uri": "https://localhost:8080/"
        },
        "id": "v2ZgwKq--ApK",
        "outputId": "e94c460f-8d70-4911-a420-d62085333b32"
      },
      "source": [
        "s.remove(1)\n",
        "s"
      ],
      "execution_count": null,
      "outputs": [
        {
          "output_type": "execute_result",
          "data": {
            "text/plain": [
              "{2, 3, 4, 5, 7}"
            ]
          },
          "metadata": {
            "tags": []
          },
          "execution_count": 140
        }
      ]
    },
    {
      "cell_type": "code",
      "metadata": {
        "colab": {
          "base_uri": "https://localhost:8080/"
        },
        "id": "FtODJuA_-CoO",
        "outputId": "af4d9d24-985c-4fee-a749-62b63470ff64"
      },
      "source": [
        "# you can combine sets using the union method. \n",
        "x = {1,2,3}\n",
        "y = {3,4,5}\n",
        "\n",
        "z = x.union(y)\n",
        "print(z)"
      ],
      "execution_count": null,
      "outputs": [
        {
          "output_type": "stream",
          "text": [
            "{1, 2, 3, 4, 5}\n"
          ],
          "name": "stdout"
        }
      ]
    },
    {
      "cell_type": "code",
      "metadata": {
        "colab": {
          "base_uri": "https://localhost:8080/"
        },
        "id": "JjPCTP-x-itx",
        "outputId": "f795aa8e-f3a2-4975-9c9b-8fe2f1fc81e5"
      },
      "source": [
        "# use .difference() method to find differences between two sets\n",
        "\n",
        "x = {1,2,3,4,5}\n",
        "y = {3,4,5,6,7}\n",
        "\n",
        "a = x.difference(y)\n",
        "print(a)\n",
        "\n",
        "print(y.difference(x))\n",
        "# can also be used with string sets. because i isnt in 'hello'\n",
        "#  it isnt a part of difference. the reverse is also true, \n",
        "# with i being the only output of the seconnd call\n",
        "print(set('hello').difference('hi'))\n",
        "set('hi').difference('hello')\n",
        "\n",
        "# Sign up for Galvanize basic prep at the following link to learn more: https://www.galvanize.com/data-science/prep"
      ],
      "execution_count": null,
      "outputs": [
        {
          "output_type": "stream",
          "text": [
            "{1, 2}\n",
            "{6, 7}\n",
            "{'l', 'e', 'o'}\n"
          ],
          "name": "stdout"
        },
        {
          "output_type": "execute_result",
          "data": {
            "text/plain": [
              "{'i'}"
            ]
          },
          "metadata": {
            "tags": []
          },
          "execution_count": 144
        }
      ]
    },
    {
      "cell_type": "markdown",
      "metadata": {
        "id": "z-9FzBOBcc9q"
      },
      "source": [
        "More definitions to know: \n",
        "\n",
        "Permutations: A permutation is an arrangement of all or part of a set of objects, with regard to the order of the arrangement. For example, suppose we have a set of three letters: A, B, and C. we might ask how many ways we can arrange 2 letters from that set.\n",
        "\n",
        "Cartesian product: When dealing with 2 sets, The cartesian product represents all possible combinations the objects in the two sets\n",
        "\n",
        "factorial: represented by n!, a factorial multiplies the initial n by every number between it and 1. ex: 4! = 4x3x2x1\n",
        "\n",
        "\n",
        "(see formulas below)"
      ]
    },
    {
      "cell_type": "code",
      "metadata": {
        "colab": {
          "base_uri": "https://localhost:8080/"
        },
        "id": "Sy7K1yAjDnjx",
        "outputId": "ecbaafd6-f33d-4932-8e27-9e808a7c0fa5"
      },
      "source": [
        "set1 = {'blue', 'red','green'}\n",
        "set2 = {'ball', 'bat', 'toy'}\n",
        "\n",
        "\n",
        "# lets use itertools permutations method to get all the unique combinations of these two sets\n",
        "unique_combinations = [] \n",
        "\n",
        "permut = permutations(set1, len(set2)) \n",
        "\n",
        "# zip() is called to pair each permutation \n",
        "# and shorter list element into combination \n",
        "for comb in permut: \n",
        "    zipped = zip(comb, set2) \n",
        "    unique_combinations.append(list(zipped)) \n",
        "  \n",
        "# printing unique_combination list  \n",
        "print(unique_combinations) \n",
        "print(len(unique_combinations))"
      ],
      "execution_count": null,
      "outputs": [
        {
          "output_type": "stream",
          "text": [
            "[[('blue', 'toy'), ('green', 'bat'), ('red', 'ball')], [('blue', 'toy'), ('red', 'bat'), ('green', 'ball')], [('green', 'toy'), ('blue', 'bat'), ('red', 'ball')], [('green', 'toy'), ('red', 'bat'), ('blue', 'ball')], [('red', 'toy'), ('blue', 'bat'), ('green', 'ball')], [('red', 'toy'), ('green', 'bat'), ('blue', 'ball')]]\n",
            "6\n"
          ],
          "name": "stdout"
        }
      ]
    },
    {
      "cell_type": "code",
      "metadata": {
        "colab": {
          "base_uri": "https://localhost:8080/"
        },
        "id": "ltTSN5vT-ut8",
        "outputId": "261a680f-c164-45bd-cd19-32eb66fb3891"
      },
      "source": [
        "# if we just want to get the count for the total number or permutations,\n",
        "#  we can skip all that\n",
        "\n",
        "# the formula for permutations is nPr= n!/(n−r)!\n",
        "# heres what that looks like in python\n",
        "\n",
        "def permutations1(n, r):\n",
        "    # Make the calculation and return the value\n",
        "    return factorial(n) / factorial(n - r)\n",
        "\n",
        "print(permutations1(3, 3))\n"
      ],
      "execution_count": null,
      "outputs": [
        {
          "output_type": "stream",
          "text": [
            "6.0\n"
          ],
          "name": "stdout"
        }
      ]
    },
    {
      "cell_type": "markdown",
      "metadata": {
        "id": "IIfPMfewCvwF"
      },
      "source": [
        "### Combinatorics: \n",
        "\n",
        "\n",
        "a field of mathematics concerned with counting the possible orderings and combinations of elements within a set, has many applications in data science, including database architecture and graph theory. Here, we will be using it in the service of our probability studies to calculate the number of possible events within a sample space.\n",
        "\n",
        "Combinations: A combination is a selection of all or part of a set of objects, without regard to the order in which objects are selected. For example, suppose we have a set of three letters: A, B, and C. we might ask how many ways we can select 2 letters from that set.\n",
        "\n",
        "The difference between combinations and permutations is ordering. With permutations we care about the order of the elements, whereas with combinations we don't. For example, a password of \"12345\" for an account couldnt use \"54231\" as the password.\n",
        "\n",
        "Much like the cartesian product, factorial, and permutations, simply calculating the number of possible combinations (cardinality of a give sample space) can be used to calculate a probability, see below for an example:\n",
        "\n",
        "the formula is nCr=n!/(n−r)!*r!\n",
        "\n",
        "with n representing the number of total possibilities, and r representing the number of possibilities of"
      ]
    },
    {
      "cell_type": "code",
      "metadata": {
        "colab": {
          "base_uri": "https://localhost:8080/"
        },
        "id": "uvLsnEtlCw4U",
        "outputId": "f552a6f5-0c20-4953-fd47-9f05a6e34954"
      },
      "source": [
        "# heres the formula!\n",
        "def combinations(n, r):\n",
        "    # Make the calculation and return the value\n",
        "    return factorial(n) / (factorial(n - r) * factorial(r))\n",
        "\n",
        "print(combinations(4,2))"
      ],
      "execution_count": null,
      "outputs": [
        {
          "output_type": "stream",
          "text": [
            "6.0\n"
          ],
          "name": "stdout"
        }
      ]
    },
    {
      "cell_type": "markdown",
      "metadata": {
        "id": "D2S-Ng1fJ3ww"
      },
      "source": [
        "## Challenge question\n",
        "\n",
        "your company is moving to a new office, and will upgrade many of its employees computers. Of the 30 employees moving into the new office, the company will only be able \n",
        "to provide new computers for 25 of the employees; out of fairness the \n",
        "company has decided to choose who gets the new computers in a lottery. \n",
        "If the marketing department has 5 employees, what is the probability that none \n",
        "of them will be recieving one of the new computers?"
      ]
    },
    {
      "cell_type": "code",
      "metadata": {
        "colab": {
          "base_uri": "https://localhost:8080/"
        },
        "id": "KQX6IiAtIKIk",
        "outputId": "5b860861-75d9-49d4-eceb-b45f9b221fd9"
      },
      "source": [
        "# first determine our n and our r\n",
        "# n = 30\n",
        "# r = 5\n",
        "# then use our combinations formula to get our denominator\n",
        "# combinations(30,)\n",
        "\n",
        "# combinations(30,5) = 142506.0\n",
        "\n",
        "# We can assume the numerator here, because there is only 1 possibility that \n",
        "# every member of marketing doesn't get a computer. its far more likely that only a few are not selected.\n",
        "# therefore, the probability that none of them will \n",
        "# be recieving one of the new computers = 1/combinations(30,5) or 1/142506.0\n",
        "\n",
        "1/combinations(30,3)\n"
      ],
      "execution_count": null,
      "outputs": [
        {
          "output_type": "execute_result",
          "data": {
            "text/plain": [
              "0.0002463054187192118"
            ]
          },
          "metadata": {
            "tags": []
          },
          "execution_count": 149
        }
      ]
    },
    {
      "cell_type": "markdown",
      "metadata": {
        "id": "XVfodrIeM_e3"
      },
      "source": [
        "Plotting: \n",
        "\n",
        "Plotting data is the process of taking data points and representing them 2 dimensionally (or any 3 dimensionally) on a grid or other representative figure. This allows us to observe the relationship between any data points within the set. \n",
        "\n"
      ]
    },
    {
      "cell_type": "code",
      "metadata": {
        "id": "nz7tItNpNcOy"
      },
      "source": [
        "def coin_flipper(n):\n",
        "  lst = []\n",
        "  coin = ['heads', 'tails']\n",
        "  for i in range(n+1):\n",
        "    lst.append(random.choice(coin))\n",
        "  return lst"
      ],
      "execution_count": null,
      "outputs": []
    },
    {
      "cell_type": "code",
      "metadata": {
        "id": "vUglZP4UNdNb"
      },
      "source": [
        "# now lets set up to plot these results in a bar chart\n",
        "plotting = coin_flipper(30)\n",
        "\n",
        "coin = ['heads', 'tails']\n",
        "\n",
        "# im going to use these to get the heights \n",
        "count_heads = 0\n",
        "count_tails = 0\n",
        "\n",
        "for i in plotting:\n",
        "  if i == 'heads':\n",
        "    count_heads +=1\n",
        "  else:\n",
        "    count_tails +=1"
      ],
      "execution_count": null,
      "outputs": []
    },
    {
      "cell_type": "markdown",
      "metadata": {
        "id": "Y1EW38A8dkaX"
      },
      "source": [
        "# Frequentist probability: \n",
        "\n",
        "if you have ever weighed the odds of a decision, you've likely used frequentist probability theory to do so. \n",
        "\n",
        "It can be defined as follows:\n",
        "The probability of some event A occuring is the magnitude of the number of possible outcomes in that event, divided by the magnitude of the total number of possible outcomes in the sample space.\n",
        "\n",
        "This equation is shown as probability of (A) or P(A) = |A|/|S|\n",
        "\n",
        "Event probabilities can be either dependent or independent of other events. \n",
        "\n",
        "### Dependence:\n",
        "Even though a single random experiment generates only a single outcome, this single outcome can induce the occurrence of multiple events, it can even be defined as an event itself. Two events are dependent if the outcome of the first event affects the outcome of the second event, so that the probability is changed.\n",
        "\n",
        "example: if you have 3 red balls in a jar, and 3 blue balls in a jar, and you remove one red ball, then the probability of pulling a blue ball changes from 1/2 to 3/5\n",
        "\n",
        "### Independence:\n",
        "Two events are independent, statistically independent, or stochastically independent if the occurrence of one does not affect the probability of occurrence of the other.\n",
        "\n",
        "P(A) = P(A|B) = P(A|BC)\n",
        "\n",
        "example: If i have two jars with ten red and ten blue balls in them, and remove one ball from the first jar, the probability of pulling a blue ball from the second jar is unaffected.\n",
        "\n",
        "###sample question: Given a fair six-sided die, what is the probability of rolling a 5?\n",
        "\n",
        "To calculate this, we take the number of sides divided by the number of possibilities we want to account for. in this case, 1 is the amount of instances we want to account for, and 6 is the number of total possibilities. therefore, 1/6 or .1666667 is the probability of rolling a 5. \n",
        "\n",
        " \n",
        "\n",
        "\n",
        "\n",
        "\n",
        "\n",
        "### More terminology: \n",
        "\n",
        "-P(A)\t= Probability of A\n",
        "\n",
        "-P(Ac) = Probability of A complement\n",
        "\n",
        "Complement: A mutually exclusive pair of events are complements to each other. For example: If the desired outcome is heads on a flipped coin, the complement is tails.\n",
        "\n",
        "- P(A∩B) = Probability of A intersect B\n",
        "\n",
        "Intersect: The probability that Events A and B both occur is the probability of the intersection of A and B. The probability of the intersection of Events A and B is denoted by P(A ∩ B). If Events A and B are mutually exclusive, P(A ∩ B) = 0.\n",
        "\n",
        "-P(A∪B) = Probability of A union B\n",
        "\n",
        "Union: The probability that Events A or B occur is the probability of the union of A and B. This is if either occurs, rather than specifically both. think of it as \"or\" to intersects \"and\"\n",
        "\n",
        "-P(A|B) =\tProbability of A given B\n",
        "\n",
        "probability of A occuring given B does\n",
        "\n",
        "check out https://stattrek.com/probability/probability-rules.aspx#:~:text=The%20probability%20of%20the%20intersection%20of%20Events%20A%20and%20B,union%20of%20A%20and%20B when you can. \n"
      ]
    },
    {
      "cell_type": "markdown",
      "metadata": {
        "id": "ajQ4DHa9LahP"
      },
      "source": [
        "### Exclusion-inclusion principle:\n",
        "Given two events A and B, and their respective probabilities, they cannot be simply added to calculate the union, because the items in the intersection of the two events will be counted twice. \n",
        "\n",
        "![union prob.png](data:image/png;base64,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)\n",
        "\n",
        "The darker shaded region on the venn diagram visualizes the overlap of each event, portraying the area to be counted twice. To account for this, when calculating A∪B, simply substract AB from P(A)+P(B). See the definition of the inclusion-exclusion principle for two events below:\n",
        "P(A∪B)=P(A)+P(B)−P(AB)"
      ]
    },
    {
      "cell_type": "code",
      "metadata": {
        "id": "TuARuAIDdutG"
      },
      "source": [
        ""
      ],
      "execution_count": null,
      "outputs": []
    },
    {
      "cell_type": "markdown",
      "metadata": {
        "id": "BdZsiesBdvUQ"
      },
      "source": [
        "# Plotting\n",
        "\n",
        "lets look at some basic plotting. "
      ]
    },
    {
      "cell_type": "code",
      "metadata": {
        "colab": {
          "base_uri": "https://localhost:8080/",
          "height": 367
        },
        "id": "8xvN0jWDNsy4",
        "outputId": "4485d88b-e5d8-4543-b15e-7e7f20ea3dd8"
      },
      "source": [
        "# when plotting with matplotlib.pyplot, you need to \n",
        "# instantiate your figure and axes as follows:\n",
        "fig, ax = plt.subplots( figsize = (10,5))\n",
        "\n",
        "# use .bar for barplots!\n",
        "plt.bar(x = 'Heads', height = count_heads)\n",
        "plt.bar(x = 'Tails', height = count_tails)\n",
        "\n",
        "ax.set_title('Head vs. Tails for coin flips')\n",
        "ax.set_ylabel('Counts')\n",
        "ax.set_xlabel('Heads or Tails')\n",
        "\n",
        "# Because we are working with a .5 probability for each outcome, we can expect\n",
        "# that the bars will be either the same height or very close"
      ],
      "execution_count": null,
      "outputs": [
        {
          "output_type": "execute_result",
          "data": {
            "text/plain": [
              "Text(0.5, 0, 'Heads or Tails')"
            ]
          },
          "metadata": {
            "tags": []
          },
          "execution_count": 152
        },
        {
          "output_type": "display_data",
          "data": {
            "image/png": "[encoded data removed]",
            "text/plain": [
              "<Figure size 720x360 with 1 Axes>"
            ]
          },
          "metadata": {
            "tags": [],
            "needs_background": "light"
          }
        }
      ]
    },
    {
      "cell_type": "code",
      "metadata": {
        "id": "bjrdKSc0OYQa"
      },
      "source": [
        "# Now lets see what happens with a skewed probability\n",
        "# use p to set the bias\n",
        "def flip_biased(p):\n",
        "    return random.random() < p\n",
        "\n",
        "c1 = 0\n",
        "c2 = 0\n",
        "\n",
        "for i in range(1000):\n",
        "\n",
        "    if flip_biased(0.7):\n",
        "        c1 += 1\n",
        "    if flip_biased(0.25):\n",
        "        c2 += 1"
      ],
      "execution_count": null,
      "outputs": []
    },
    {
      "cell_type": "code",
      "metadata": {
        "colab": {
          "base_uri": "https://localhost:8080/",
          "height": 638
        },
        "id": "nDnUXbC1QY8Q",
        "outputId": "ca69b6dd-c923-4afa-e581-48bb0e6aa34d"
      },
      "source": [
        "fig, ax = plt.subplots( figsize = (20,10))\n",
        "\n",
        "# use .bar for barplots!\n",
        "plt.bar(x = 'Heads', height = c1)\n",
        "plt.bar(x = 'Tails', height = c2)\n",
        "\n",
        "ax.set_title('Head vs. Tails for our biased coin flips')\n",
        "ax.set_ylabel('Counts')\n",
        "ax.set_xlabel('Heads or Tails')"
      ],
      "execution_count": null,
      "outputs": [
        {
          "output_type": "execute_result",
          "data": {
            "text/plain": [
              "Text(0.5, 0, 'Heads or Tails')"
            ]
          },
          "metadata": {
            "tags": []
          },
          "execution_count": 154
        },
        {
          "output_type": "display_data",
          "data": {
            "image/png": "[encoded data removed]",
            "text/plain": [
              "<Figure size 1440x720 with 1 Axes>"
            ]
          },
          "metadata": {
            "tags": [],
            "needs_background": "light"
          }
        }
      ]
    },
    {
      "cell_type": "code",
      "metadata": {
        "id": "togN6zKnQhO4"
      },
      "source": [
        ""
      ],
      "execution_count": null,
      "outputs": []
    }
  ]
}