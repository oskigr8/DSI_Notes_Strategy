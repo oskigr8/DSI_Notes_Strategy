{
  "nbformat": 4,
  "nbformat_minor": 0,
  "metadata": {
    "colab": {
      "name": "Intro-python-part1.ipynb",
      "provenance": [],
      "collapsed_sections": [],
      "include_colab_link": true
    },
    "kernelspec": {
      "name": "python3",
      "display_name": "Python 3"
    }
  },
  "cells": [
    {
      "cell_type": "markdown",
      "metadata": {
        "id": "view-in-github",
        "colab_type": "text"
      },
      "source": [
        "<a href=\"https://colab.research.google.com/github/oskigr8/DSI_Notes_Strategy/blob/master/Intro_python_part1.ipynb\" target=\"_parent\"><img src=\"https://colab.research.google.com/assets/colab-badge.svg\" alt=\"Open In Colab\"/></a>"
      ]
    },
    {
      "cell_type": "markdown",
      "metadata": {
        "id": "MYgnEnhUzwcj"
      },
      "source": [
        "# Welcome to Google Colab\n",
        "\n",
        "Colab is essentially Google's way of hosting a [jupyter notebook](https://jupyter.org/). A very popular tool to use as a data scientist!\n",
        "\n",
        "It allows us to write code, documentation, and output visuals all in one place.\n",
        "\n",
        "To be able to and edit the code in this workshop. Please make a copy for yourself\n",
        "\n",
        "`file > save a copy in drive`\n",
        "\n",
        "This should open a new tab with your own copy of this notebook. It can take a minute to load.\n",
        "\n",
        "Colab comes with a lot of great data science libraries pre-installed. We'll show to start working with them in part-2 | [RSVP here](https://www.eventbrite.com/e/intro-to-python-part-2-live-online-tickets-133027499833).\n",
        "\n",
        "Colab also gives you some options for running complicated computations such as training deep learning model. To see access those options:\n",
        "\n",
        "`Runtime > change runtime type` Select `GPU`, `TPU`, or `None`\n",
        "\n",
        "We don't need to change anything for this workshop, but its a great resource if you start learning deep learning and don't have a powerful GPU at home. \n",
        "\n",
        "This is a text cell. \n",
        "\n",
        "You can add a new text cell by clicking `+ Text` above. \n",
        "\n",
        "It does not highlight wrong spelling. I apologize for any typos!\n",
        "\n",
        "\n"
      ]
    },
    {
      "cell_type": "markdown",
      "metadata": {
        "id": "Y4IYN_PlmnKa"
      },
      "source": [
        "# hello\n",
        "\n"
      ]
    },
    {
      "cell_type": "markdown",
      "metadata": {
        "id": "0D6FH2Fazwot"
      },
      "source": [
        "### Code Cells\n",
        "\n",
        "Below is a code cell. There is nothing in it right now.\n",
        "\n",
        "To run a code cell click on it and then click the play button. Or press `shift+enter`\n",
        "\n",
        "You can add new code cells by clicking the ` + Code ` button above\n"
      ]
    },
    {
      "cell_type": "code",
      "metadata": {
        "id": "FHTJtZma2D3i"
      },
      "source": [
        "print(\"HELLO!\")"
      ],
      "execution_count": null,
      "outputs": []
    },
    {
      "cell_type": "code",
      "metadata": {
        "id": "PcrfuCJa-Tkp"
      },
      "source": [
        ""
      ],
      "execution_count": null,
      "outputs": []
    },
    {
      "cell_type": "markdown",
      "metadata": {
        "id": "kyQMUuU3sEpm"
      },
      "source": [
        "# Introduction to Python\n",
        "\n",
        "Time for some actual programming!"
      ]
    },
    {
      "cell_type": "markdown",
      "metadata": {
        "id": "kqv7z30_Tjfc"
      },
      "source": [
        "### Printing\n",
        "\n",
        "Everyone starts learning a new programming language by printing out the words \"Hello, World!\"\n",
        "\n",
        "We're no exception! \n",
        "\n",
        "We will be using the `print()` function in this workshop a lot.\n",
        "\n",
        "an indicator of a function is some text ending with `()`. We will cover functions and how to create our own in part 2. \n",
        "\n",
        "For now just know that we're passing a piece of data into another piece of code and its going to do something with it. \n",
        "\n",
        "In this case: Prints out the piece of data we passed in. \n"
      ]
    },
    {
      "cell_type": "code",
      "metadata": {
        "id": "mQzqQ7RxTAbE"
      },
      "source": [
        "# print Hello, World!\n",
        "print('')"
      ],
      "execution_count": null,
      "outputs": []
    },
    {
      "cell_type": "code",
      "metadata": {
        "id": "_srMn-K_oF2t"
      },
      "source": [
        ""
      ],
      "execution_count": null,
      "outputs": []
    },
    {
      "cell_type": "markdown",
      "metadata": {
        "id": "GtSg2IjJoGNT"
      },
      "source": [
        ""
      ]
    },
    {
      "cell_type": "markdown",
      "metadata": {
        "id": "YJHsshtnFumA"
      },
      "source": [
        "In colab you can remove the code output by clicking on the icon to the left of it."
      ]
    },
    {
      "cell_type": "markdown",
      "metadata": {
        "id": "gQPACcbOUP0p"
      },
      "source": [
        "### Comments\n",
        "\n",
        "Comments are a great way of documenting your code!\n",
        "\n",
        "They don't affect the output.\n",
        "\n",
        "You can create a comment using the `#` "
      ]
    },
    {
      "cell_type": "code",
      "metadata": {
        "id": "c3ioanX3UTV7"
      },
      "source": [
        "# This is a comment. It will not do anything as code\n",
        "# But it is super useful to document what your code is doing!\n",
        "# This is to add some extra info about my program!!!\n",
        "\n"
      ],
      "execution_count": null,
      "outputs": []
    },
    {
      "cell_type": "markdown",
      "metadata": {
        "id": "oxwgisrITuSN"
      },
      "source": [
        "### Variables\n",
        "\n",
        "Think of variables as a way to store information. This is super useful! You can then receive or update the variable in your program. You'll see this later!\n",
        "\n",
        "Think of it as naming a piece of data.\n",
        "\n",
        "its common in programming languages to have a keyword before the variable such as var or int, but python does not need this."
      ]
    },
    {
      "cell_type": "code",
      "metadata": {
        "id": "zBapGTEQTwTz"
      },
      "source": [
        "twitter = \"@code_syrup\"\n",
        "\n",
        "print(twitter)\n",
        "\n",
        "twitter = 1 + 2\n",
        "\n",
        "print(twitter)"
      ],
      "execution_count": null,
      "outputs": []
    },
    {
      "cell_type": "markdown",
      "metadata": {
        "id": "3EG06J0GUC15"
      },
      "source": [
        "#### Challenge:\n",
        "Create a variable called `name` and assign it your name. Use the `print()` function to print out the variable value."
      ]
    },
    {
      "cell_type": "code",
      "metadata": {
        "id": "dJdbUcChUE1g"
      },
      "source": [
        "# Write your Code Here!"
      ],
      "execution_count": null,
      "outputs": []
    },
    {
      "cell_type": "markdown",
      "metadata": {
        "id": "HnYboIFeruCs"
      },
      "source": [
        "## Interact with users\n",
        "\n",
        "Getting input from the command line can be useful (and fun).\n",
        "\n",
        "To do that we will use the `input()` function. And we want to assign that input to a variable.\n",
        "\n",
        "`guess = input(\"enter your guess \")`\n",
        "\n",
        "\n"
      ]
    },
    {
      "cell_type": "code",
      "metadata": {
        "id": "NxsyhKAeTb3u"
      },
      "source": [
        "input(\"type your name\\n\")"
      ],
      "execution_count": null,
      "outputs": []
    },
    {
      "cell_type": "code",
      "metadata": {
        "id": "ne6TgdETrwZo"
      },
      "source": [
        "# Assign input to a variable"
      ],
      "execution_count": null,
      "outputs": []
    },
    {
      "cell_type": "markdown",
      "metadata": {
        "id": "X0nSfeB2uJJP"
      },
      "source": [
        "---\n",
        "### Challenge:\n",
        "\n",
        "Create a variable called `name` and ask a user for their name using the `input` function.\n",
        "\n",
        "Print out the name."
      ]
    },
    {
      "cell_type": "code",
      "metadata": {
        "id": "PxFtcjU9r0AW"
      },
      "source": [
        "# Your code here!"
      ],
      "execution_count": null,
      "outputs": []
    },
    {
      "cell_type": "markdown",
      "metadata": {
        "id": "9QKo9HPfU6Zj"
      },
      "source": [
        "### Data Types:\n",
        "\n",
        "We're going to stick with the basics, so we wont be going over EVERY data type in Python, but you you can read a more comprehensive list [here](https://docs.python.org/3/library/stdtypes.html).  \n",
        "\n",
        "Feel free to try these different data types out in your code!"
      ]
    },
    {
      "cell_type": "markdown",
      "metadata": {
        "id": "OsZZEqV2VlY6"
      },
      "source": [
        "#### Numbers:\n",
        "\n",
        "Numbers are written just like you would think. Just the number! No quotes or symbols to worry about. If you do put quotes around a number it will become a string (see next)\n",
        "\n",
        "`25` `100`\n",
        "\n",
        "Multiply, Add, Divide, Compare, Modulo (remainder)\n",
        "\n",
        "- `5 * 5` | output: 25\n",
        "- `5 + 5` | output: 10\n",
        "- `8 / 2` | output: 4\n",
        "- `8 > 2` | output: true\n",
        "- `8 % 8` | output: 0 \n"
      ]
    },
    {
      "cell_type": "code",
      "metadata": {
        "id": "37mwoGZ7qz1h"
      },
      "source": [
        "print(10 // 7)\n",
        "print(10%7)"
      ],
      "execution_count": null,
      "outputs": []
    },
    {
      "cell_type": "code",
      "metadata": {
        "id": "t6OLdoUSVNJw"
      },
      "source": [
        "print(5 * 5)\n",
        "print(5 + 5)\n",
        "print(5/2)\n",
        "print(8 > 2)\n",
        "print(8 % 8)"
      ],
      "execution_count": null,
      "outputs": []
    },
    {
      "cell_type": "code",
      "metadata": {
        "id": "mb0rRE6ros2h"
      },
      "source": [
        "print(22//3)"
      ],
      "execution_count": null,
      "outputs": []
    },
    {
      "cell_type": "code",
      "metadata": {
        "id": "5i05pxOhrkqT"
      },
      "source": [
        "print(5 + 5)\n",
        "5 / 2"
      ],
      "execution_count": null,
      "outputs": []
    },
    {
      "cell_type": "markdown",
      "metadata": {
        "id": "pwE9BL9hV9KY"
      },
      "source": [
        "#### Strings:\n",
        "Strings can be a collection of letters, symbols and/or numbers. They are made by surrounding the content with quotation marks.\n",
        "\n",
        "`\"Hello, World.\"`\n",
        "\n",
        "`\"CrAzy Random String 987879896jvdjvda &&(&(@*(*\"`\n"
      ]
    },
    {
      "cell_type": "code",
      "metadata": {
        "id": "kLDsf4f7V9jo"
      },
      "source": [
        "# common ways of defining a string. \n",
        "# make sure you begin and end with same quotation set\n",
        "\n",
        "\n",
        "singlequote = 'A string in Single quotes!'\n",
        "doublequote = \"A string i'm  Double quotes!\"\n",
        "triplequote = '''A stri'ng \"in 'T\"ripl'\"e quot'\"es!'''\n",
        "\n",
        "print(singlequote)\n",
        "print(doublequote)\n",
        "print(triplequote)\n",
        "\n",
        "'''\n",
        "Hello, my name is Andrew.\n",
        "\n",
        "I teach at Galvanize.\n",
        "'''\n"
      ],
      "execution_count": null,
      "outputs": []
    },
    {
      "cell_type": "code",
      "metadata": {
        "id": "NQPL2kGAXtqM"
      },
      "source": [
        "# If you're unsure what data will be in your string\n",
        "# Triple quotes is the safest to use\n",
        "# It will prevent a single or double quotation mark breaking the string\n",
        "\n",
        "triplesafe = '''A string  in \n",
        "TLHLKHHL '. \n",
        "LHLKHLK \"\n",
        "Triple single \" quotes!'''\n",
        "\n",
        "\n",
        "\n",
        "print(triplesafe)"
      ],
      "execution_count": null,
      "outputs": []
    },
    {
      "cell_type": "code",
      "metadata": {
        "id": "oGM_4s3pXDbo"
      },
      "source": [
        "# Can we add strings together? Try it out!\n",
        "\n",
        "string1 = \"hello\"\n",
        "string2 = \" world\"\n",
        "\n",
        "print(string1 + string2)\n",
        "\n",
        "# What happens if you multiply a string and a number?\n"
      ],
      "execution_count": null,
      "outputs": []
    },
    {
      "cell_type": "markdown",
      "metadata": {
        "id": "b00_QaTCYGqq"
      },
      "source": [
        "##### Variables in strings\n",
        "\n",
        "Often we will want to add in variables to a string. \n",
        "\n",
        "Imagine having someones name, age, etc... populate into a string depending on the user.\n",
        "\n",
        "As you'll see below there are several ways of doing this!"
      ]
    },
    {
      "cell_type": "code",
      "metadata": {
        "id": "boBuZPDqYb-S"
      },
      "source": [
        "# Lets create some variables to work with\n",
        "# Feel Free to change them or create your own!\n",
        "\n",
        "name = \"\"\n",
        "city = \"\"\n",
        "career = \"\"\n",
        "age = 0"
      ],
      "execution_count": null,
      "outputs": []
    },
    {
      "cell_type": "markdown",
      "metadata": {
        "id": "4zg8AYqCarfs"
      },
      "source": [
        "##### Concatenation\n",
        "\n",
        "You can add variables into string by breaking up the string into bits and adding a varible in between them. \n",
        "\n",
        "This gets pretty messy really fast. Its harder to change the sentence in the future, you have to add spaces at teh begining or or ends of strings. You have to convert numbers into strings if you want to use them."
      ]
    },
    {
      "cell_type": "code",
      "metadata": {
        "id": "pPDPmu5hZCNZ"
      },
      "source": [
        "\n",
        "# concatenation \n",
        "concatstring = \"Hello, my name is \" + str(name) + \". I am \" + career + \" in \" + city + \". I am \" + str(age) + \" years old.\"\n",
        "\n",
        "print(concatstring)\n",
        "\n"
      ],
      "execution_count": null,
      "outputs": []
    },
    {
      "cell_type": "code",
      "metadata": {
        "id": "zOk20gPZYjhj"
      },
      "source": [
        "# More common way\n",
        "placeholderstring =  \"Hello, my name is {}. I am a {} in {}. I am {} years old.\".format(name, career, city, age)\n",
        "\n",
        "print(placeholderstring)\n",
        "\n"
      ],
      "execution_count": null,
      "outputs": []
    },
    {
      "cell_type": "code",
      "metadata": {
        "id": "6pQbnGaaZ5UN"
      },
      "source": [
        "# you can specify which variable is used where\n",
        "placeholder_order =  \"Hello, my name is {2}. I am a {1} in {3}. I am {0} years old. {2}\".format(name, career,city, str(age))\n",
        "\n",
        "print(placeholder_order)"
      ],
      "execution_count": null,
      "outputs": []
    },
    {
      "cell_type": "code",
      "metadata": {
        "id": "qTRoiH9sZ5dZ"
      },
      "source": [
        "# Fstring\n",
        "# My favorite way!\n",
        "\n",
        "fstring = f\"Hello, my name is {name}. I am a {career} in {city}. I am {age} years old. {age}\"\n",
        "\n",
        "print(fstring)"
      ],
      "execution_count": null,
      "outputs": []
    },
    {
      "cell_type": "code",
      "metadata": {
        "id": "fFj6mYJjQHMz"
      },
      "source": [
        "# old way, now out of fashion.\n",
        "# showing because you may see it in the wild you know what its doing\n",
        "\n",
        "var = 'variable'\n",
        "h = 'int'\n",
        "print(\"This is the old way putting an %s in a string\" % h)\n"
      ],
      "execution_count": null,
      "outputs": []
    },
    {
      "cell_type": "markdown",
      "metadata": {
        "id": "kigsnxLHr7yk"
      },
      "source": [
        "---\n",
        "### Challenge:\n",
        "\n",
        "Using the `input()` function ask a user for their name. Then print out a sentence using the name. \n"
      ]
    },
    {
      "cell_type": "code",
      "metadata": {
        "id": "KojLpqJdr9lH"
      },
      "source": [
        "name = input(\"Please enter your name \")\n",
        "\n",
        "print(name)"
      ],
      "execution_count": null,
      "outputs": []
    },
    {
      "cell_type": "code",
      "metadata": {
        "id": "Gjc1Te0lEKV-"
      },
      "source": [
        ""
      ],
      "execution_count": null,
      "outputs": []
    },
    {
      "cell_type": "code",
      "metadata": {
        "id": "qMdynZKGvQmH"
      },
      "source": [
        "print(f\"Hello, {name}\")"
      ],
      "execution_count": null,
      "outputs": []
    },
    {
      "cell_type": "markdown",
      "metadata": {
        "id": "sgSlZNLsB3dB"
      },
      "source": [
        "Read more about strings [here](https://www.w3schools.com/python/python_strings.asp)."
      ]
    },
    {
      "cell_type": "markdown",
      "metadata": {
        "id": "F9SMiWYwdhna"
      },
      "source": [
        "#### Booleans:\n",
        "You can think of Booleans as yes(true) and no(false)\n",
        "\n",
        "`True` `False`\n",
        "\n",
        "We'll go into how to use these in a little bit. For now just remember they exist!\n"
      ]
    },
    {
      "cell_type": "code",
      "metadata": {
        "id": "ZY13X3NqBxzM"
      },
      "source": [
        ""
      ],
      "execution_count": null,
      "outputs": []
    },
    {
      "cell_type": "markdown",
      "metadata": {
        "id": "HoBPgHysdl5_"
      },
      "source": [
        "#### Lists (Arrays)\n",
        "\n",
        "Lists start and end with `[]`\n",
        "\n",
        "\n",
        "used to store a list of values.\n",
        "\n",
        "The values are stored at an index. Indexing in python starts at 0."
      ]
    },
    {
      "cell_type": "code",
      "metadata": {
        "id": "DccibF3vdm4i"
      },
      "source": [
        "tvshows = [\"The Mandalorian\", \"Supernatural\", \"Game of Thrones\", \"Stranger Things\"]\n",
        "print(tvshows)"
      ],
      "execution_count": null,
      "outputs": []
    },
    {
      "cell_type": "code",
      "metadata": {
        "id": "7ClMzUOydseB"
      },
      "source": [
        "# Print one item. Index starts at zero\n",
        "print(tvshows[0])\n"
      ],
      "execution_count": null,
      "outputs": []
    },
    {
      "cell_type": "code",
      "metadata": {
        "id": "gVZMIy2bdyEl"
      },
      "source": [
        "# Update an item in an array\n",
        "print(tvshows[0])\n",
        "\n",
        "tvshows[0] = \"\"\n",
        "\n",
        "print(tvshows[0])\n",
        "\n",
        "print(tvshows)"
      ],
      "execution_count": null,
      "outputs": []
    },
    {
      "cell_type": "code",
      "metadata": {
        "id": "nAexCOzad2uw"
      },
      "source": [
        "# Add to a list\n",
        "tvshows.append(\"Firefly\")\n",
        "\n",
        "print(tvshows)"
      ],
      "execution_count": null,
      "outputs": []
    },
    {
      "cell_type": "code",
      "metadata": {
        "id": "hXziRupfd60o"
      },
      "source": [
        "# Remove from a list\n",
        "tvshows.remove(\"Firefly\")\n",
        "print(tvshows)"
      ],
      "execution_count": null,
      "outputs": []
    },
    {
      "cell_type": "code",
      "metadata": {
        "id": "JbnsIpzeV7ni"
      },
      "source": [
        ""
      ],
      "execution_count": null,
      "outputs": []
    },
    {
      "cell_type": "code",
      "metadata": {
        "id": "rmywJcqhwV4E"
      },
      "source": [
        "tvshows"
      ],
      "execution_count": null,
      "outputs": []
    },
    {
      "cell_type": "code",
      "metadata": {
        "id": "Tq78SJCDd-_j"
      },
      "source": [
        ""
      ],
      "execution_count": null,
      "outputs": []
    },
    {
      "cell_type": "code",
      "metadata": {
        "id": "O5Ba546B1LuJ"
      },
      "source": [
        "tvshows"
      ],
      "execution_count": null,
      "outputs": []
    },
    {
      "cell_type": "code",
      "metadata": {
        "id": "4dV3Clpix52O"
      },
      "source": [
        "tvshows.insert(1, \"Time\")"
      ],
      "execution_count": null,
      "outputs": []
    },
    {
      "cell_type": "code",
      "metadata": {
        "id": "4fkUmmUix58K"
      },
      "source": [
        "tvshows"
      ],
      "execution_count": null,
      "outputs": []
    },
    {
      "cell_type": "code",
      "metadata": {
        "id": "2BcriJlmyFS8"
      },
      "source": [
        "l = [2,1,3,4]"
      ],
      "execution_count": null,
      "outputs": []
    },
    {
      "cell_type": "code",
      "metadata": {
        "id": "MoVLIctpyIXf"
      },
      "source": [
        "l.sort()"
      ],
      "execution_count": null,
      "outputs": []
    },
    {
      "cell_type": "code",
      "metadata": {
        "id": "kPbwui4HyO5c"
      },
      "source": [
        "l"
      ],
      "execution_count": null,
      "outputs": []
    },
    {
      "cell_type": "markdown",
      "metadata": {
        "id": "6o20ogou1KWN"
      },
      "source": [
        "Lists have a lot of functionality built in! You can read more about them [here](https://www.w3schools.com/python/python_lists.asp)\n",
        "\n",
        "---\n",
        "### Challenge:\n",
        "\n",
        "- Make an empty list and assign to variable `fav_foods`\n",
        "- add two items \n",
        "- print the 2nd item\n",
        "- remove the first item\n"
      ]
    },
    {
      "cell_type": "code",
      "metadata": {
        "id": "Frm5c8bW2C0h"
      },
      "source": [
        "# Make an empty list and assign to variable `fav_foods`\n",
        "fav_foods = []"
      ],
      "execution_count": null,
      "outputs": []
    },
    {
      "cell_type": "code",
      "metadata": {
        "id": "GMM64Ig82iek"
      },
      "source": [
        "# add one item\n",
        "fav_foods.append(\"Tikka Masala\")"
      ],
      "execution_count": null,
      "outputs": []
    },
    {
      "cell_type": "code",
      "metadata": {
        "id": "k4J9ZS062imB"
      },
      "source": [
        "# add second item\n",
        "fav_foods.append(\"Street Tacos\")"
      ],
      "execution_count": null,
      "outputs": []
    },
    {
      "cell_type": "code",
      "metadata": {
        "id": "Xqz0n8Lv3AhR"
      },
      "source": [
        "# print the 2nd item\n",
        "print(fav_foods[1])"
      ],
      "execution_count": null,
      "outputs": []
    },
    {
      "cell_type": "code",
      "metadata": {
        "id": "s-hevBB52iwX"
      },
      "source": [
        "# remove first item\n",
        "fav_foods.remove(fav_foods[0])\n",
        "print(fav_foods)"
      ],
      "execution_count": null,
      "outputs": []
    },
    {
      "cell_type": "markdown",
      "metadata": {
        "id": "ZMPgf3AsePWy"
      },
      "source": [
        "#### Tuples\n",
        "\n",
        "Tuples start and end with `()`\n",
        "\n",
        "Tuples behave a lot like lists, except you cannot change the values later in the code like we did in lists.\n",
        "\n",
        "\n"
      ]
    },
    {
      "cell_type": "code",
      "metadata": {
        "id": "xjHaP9LqeT3W"
      },
      "source": [
        "tupleshows = ([1,2,3,4],'West World','Mr. Robot', 'Game of Thrones')\n",
        "print(tupleshows)\n"
      ],
      "execution_count": null,
      "outputs": []
    },
    {
      "cell_type": "code",
      "metadata": {
        "id": "6YYX3xYZCVwx"
      },
      "source": [
        "# cannot add value\n",
        "# tupleshows.append(\"FireFly\")\n",
        "# tupleshows[0] = \"NEW SHOW\"\n",
        "tupleshows = ('New show', 'Other')\n",
        "print(tupleshows)\n"
      ],
      "execution_count": null,
      "outputs": []
    },
    {
      "cell_type": "markdown",
      "metadata": {
        "id": "w5WHxKRIeqBg"
      },
      "source": [
        "#### Dictionary (Dict)\n",
        "\n",
        "Dictionaries start and end with `{}`\n",
        "\n",
        "Dictionaries are used to store values in a whats called a key value pair format\n",
        "\n",
        "`{ key: value }`\n"
      ]
    },
    {
      "cell_type": "code",
      "metadata": {
        "id": "KAiOYzfAYfh_"
      },
      "source": [
        "dictionary = {\"key\":\"value\"}"
      ],
      "execution_count": null,
      "outputs": []
    },
    {
      "cell_type": "code",
      "metadata": {
        "id": "iXmujRq0Ytky"
      },
      "source": [
        "print(dictionary[\"key\"])"
      ],
      "execution_count": null,
      "outputs": []
    },
    {
      "cell_type": "code",
      "metadata": {
        "id": "9D7nhJ6beqTa"
      },
      "source": [
        "# a Dictionary with multiple key value pairs \n",
        "person =\t{\n",
        "    'name': ('Jonathan','james'),\n",
        "    'age': 100,\n",
        "    1:100\n",
        "}\n",
        "\n",
        "# print(person)\n",
        "print('name' in person)"
      ],
      "execution_count": null,
      "outputs": []
    },
    {
      "cell_type": "code",
      "metadata": {
        "id": "pMMKc36meuwk"
      },
      "source": [
        "# Update\n",
        "# print(person['name'])\n",
        "\n",
        "# person['name'] = input(\"whats your name? \")\n",
        "# person['city'] = \"Oceanside\"\n",
        "\n",
        "# print(person['name'])\n",
        "print(person['name'])\n",
        "\n"
      ],
      "execution_count": null,
      "outputs": []
    },
    {
      "cell_type": "code",
      "metadata": {
        "id": "B-rR-RPDxhHr"
      },
      "source": [
        "print(person)"
      ],
      "execution_count": null,
      "outputs": []
    },
    {
      "cell_type": "code",
      "metadata": {
        "id": "S1tgpL1feycl"
      },
      "source": [
        "# add \n",
        "person['city'] = 'San Diego'  \n",
        "# print(person)\n",
        "person[1]"
      ],
      "execution_count": null,
      "outputs": []
    },
    {
      "cell_type": "code",
      "metadata": {
        "id": "_fy1mRf2e1xR"
      },
      "source": [
        "# Remove\n",
        "del person['city']\n",
        "print(person)\n",
        "\n"
      ],
      "execution_count": null,
      "outputs": []
    },
    {
      "cell_type": "markdown",
      "metadata": {
        "id": "qV_8vpIGe6FX"
      },
      "source": [
        "read more about python dictionaries [here](https://www.w3schools.com/python/python_dictionaries.asp)."
      ]
    },
    {
      "cell_type": "markdown",
      "metadata": {
        "id": "Bs9pZk1zDLvB"
      },
      "source": [
        "---\n",
        "### Challenge:\n",
        "\n",
        "\n",
        "- Make a dictionary {} with key values pairs. `name`, `age`, and `city`.\n",
        "- Print out the name and city values. \n",
        "\n",
        "Feel free to mess around more! try adding or updating items"
      ]
    },
    {
      "cell_type": "code",
      "metadata": {
        "id": "tXpA80w13u9J"
      },
      "source": [
        "# Make a dictionary {} with key values pairs. name, age, an d city.\n",
        "person = {\n",
        "\n",
        "}\n"
      ],
      "execution_count": null,
      "outputs": []
    },
    {
      "cell_type": "code",
      "metadata": {
        "id": "XJwIlq963wBs"
      },
      "source": [
        "# Print out the name and city values.\n",
        "\n",
        "print(person[\"name\"])\n",
        "print(person[\"city\"])"
      ],
      "execution_count": null,
      "outputs": []
    },
    {
      "cell_type": "markdown",
      "metadata": {
        "id": "OMVAgJ05e-Nk"
      },
      "source": [
        "### Lists + Dicts "
      ]
    },
    {
      "cell_type": "code",
      "metadata": {
        "id": "S-Sa2w4xe6YP"
      },
      "source": [
        "# Access a dict inside a list:\n",
        "\n",
        "dic = [{'name': \"sage\", 'city': \"Seattle\"}, {'''name''': \"Amanda\", 'city': \"New York\"}, {'name': \"Albert\", 'city': \"Chicago\"}]\n",
        "\n",
        "dic[2]['city']\n"
      ],
      "execution_count": null,
      "outputs": []
    },
    {
      "cell_type": "code",
      "metadata": {
        "id": "zHOKiBR3fGYI"
      },
      "source": [
        "# Access a list inside of a dict:\n",
        "profile = {'name': \"Sage\", 'fav_shows': ['West World','Mr. Robot', 'Game of Thrones']}\n",
        "\n",
        "print(profile['fav_shows'][1])\n",
        "\n",
        "print(profile)"
      ],
      "execution_count": null,
      "outputs": []
    },
    {
      "cell_type": "markdown",
      "metadata": {
        "id": "sOsgzQHfgB6d"
      },
      "source": [
        "---\n",
        "### QUIZ:\n",
        "\n",
        "- What type of data would age be?\n",
        "- What type of data would a name be?\n",
        "- What type of data would a list of foods be?\n",
        "- What type of data would we use to store a profile of a user?\n",
        "- What type of data could we use for True or False?\n",
        "- what type of data should a zip-code be?\n",
        "\n",
        "check data type with `type` function"
      ]
    },
    {
      "cell_type": "code",
      "metadata": {
        "id": "-IjFcvDsDOY8"
      },
      "source": [
        "print(type(7.0))\n",
        "type(7)"
      ],
      "execution_count": null,
      "outputs": []
    },
    {
      "cell_type": "markdown",
      "metadata": {
        "id": "JY8vHbArgYl9"
      },
      "source": [
        "## Comparison Operators:\n",
        "Comparison Operators are used quite frequently in programming. Its a great way to compare and use data to make descisions.\n",
        "\n",
        "Again we won't cover ALL of the comparison operators in this workshop, but you can see a full list of them [here](https://docs.python.org/3/library/stdtypes.html#comparisons)\n",
        "\n",
        "- `==` Equal\n",
        "- `!=` Not Equal\n",
        "- `>` Greater Than\n",
        "- `>=` Greater Than or Equal\n",
        "- `<` Less Than\n",
        "- `<=` Less Than or Equal\n",
        "\n",
        "Example:\n",
        "\n",
        "`current_score >= highest_score`\n",
        "This would return a boolean value. Depending on the values of these variables this would return either `True` or `False`. Try it in your console using numbers instead of variables!"
      ]
    },
    {
      "cell_type": "code",
      "metadata": {
        "id": "o0ICmUzHxpXt"
      },
      "source": [
        "current_score = 99\n",
        "highest_score = 99\n",
        "current_score >= highest_score"
      ],
      "execution_count": null,
      "outputs": []
    },
    {
      "cell_type": "code",
      "metadata": {
        "id": "jNp-me_Jgd0C"
      },
      "source": [
        "print(8 == 8)\n",
        "  print(8 != 8)\n",
        "    print(8 > 2)\n",
        "print(8 >= 8)\n",
        "print(8 < 12)\n",
        "print(8 <= 8)"
      ],
      "execution_count": null,
      "outputs": []
    },
    {
      "cell_type": "markdown",
      "metadata": {
        "id": "g2FVATrlgeU0"
      },
      "source": [
        "## Spacing\n",
        "most of the upcoming examples you'll see parts of the code indented.\n",
        "This lets python know when blocks of code begin & end. I'll explain as we go through examples. Just remember that spacing is important and it can cause issues with your code working."
      ]
    },
    {
      "cell_type": "markdown",
      "metadata": {
        "id": "iCT4TXkQgk0e"
      },
      "source": [
        "## Conditionals\n",
        "\n",
        "When writing a program you'll often want to check if data meets a certain condition or not. We can use conditionals to make decision about our data and create different outcomes\n",
        "\n",
        " In Python you'll often use the `if` statement. This may be followed by `else if` or `else` depending on how many conditions need to be checked.\n",
        "\n",
        "Example:\n"
      ]
    },
    {
      "cell_type": "code",
      "metadata": {
        "id": "wSZF0X_-goXe"
      },
      "source": [
        "guess = 4\n",
        "answer = 5\n",
        "\n",
        "if guess == answer:\n",
        "  message = \"You Win!\"\n",
        "elif guess < answer:\n",
        "  message = \"Your guess is too low!\"\n",
        "elif guess > answer:\n",
        "  message = \"your guess is too high!\"\n",
        "    \n",
        "print(message)"
      ],
      "execution_count": null,
      "outputs": []
    },
    {
      "cell_type": "markdown",
      "metadata": {
        "id": "gtvb7euOgor_"
      },
      "source": [
        "### Multiple Conditionals\n",
        "\n",
        "Use the keyword `and` or `or` between muliple conditionals. \n",
        "\n",
        "`or` if you want to run code when either condition is met\n",
        "\n",
        "`if i == 0 or i == 1:`\n",
        "\n",
        "`and` if you want to run the code when all conditions are met.\n",
        "\n",
        "`if i == 0 and x == 4:`\n"
      ]
    },
    {
      "cell_type": "code",
      "metadata": {
        "id": "8KB9x65wgpGL"
      },
      "source": [
        "i = 0\n",
        "x = 67\n",
        "\n",
        "if i == 1 or x == 6:\n",
        "  yu = \"If ran\"\n",
        "else:\n",
        "  yu = \"Else ran\"\n",
        "  \n",
        "print(yu)"
      ],
      "execution_count": null,
      "outputs": []
    },
    {
      "cell_type": "code",
      "metadata": {
        "id": "HNLqM3hh0FOP"
      },
      "source": [
        "i = 0\n",
        "x = 4\n",
        "\n",
        "if i == 0 and x == 4:\n",
        "  message = \"If ran\"\n",
        "else:\n",
        "  message = \"Else ran\"\n",
        "  \n",
        "print(message)"
      ],
      "execution_count": null,
      "outputs": []
    },
    {
      "cell_type": "markdown",
      "metadata": {
        "id": "y2zxg_elgrl5"
      },
      "source": [
        "### challenge\n",
        "\n",
        "- make a variable with with a numerical value. \n",
        "- using the `if`, `elif`, and `else` make your program print something different depending on the value in your variable."
      ]
    },
    {
      "cell_type": "code",
      "metadata": {
        "id": "zt-FOebtgsB3"
      },
      "source": [
        "# your code here:\n",
        "\n",
        "num = 4\n",
        "\n",
        "if num == 4:\n",
        "  print(\"it's equal to 4\")\n",
        "elif num > 4:\n",
        "  print(\"it's greater\")\n",
        "else:\n",
        "  print(\"it's smaller\")\n"
      ],
      "execution_count": null,
      "outputs": []
    },
    {
      "cell_type": "markdown",
      "metadata": {
        "id": "UM_gFmEpg1Ub"
      },
      "source": [
        "## Loops\n",
        "We're going to go over some of the basic loops in python, but yet again we're not going to cover everything, so you may want to read more about loops [here](https://www.learnpython.org/en/Loops).\n",
        "\n",
        "Loops are used when you want to repeat something. You can repeat the exact same thing, or change some variable and repeat the action again.\n",
        "\n",
        "the two common types of loops are `for` and `while`.\n",
        "`for` loops are often used to run a loop a specified amount of time.\n",
        "\n",
        "`while` loops are often used to run a loop indefinitely until certain criteria are met.\n",
        "\n"
      ]
    },
    {
      "cell_type": "markdown",
      "metadata": {
        "id": "H6uTW8BWhUbt"
      },
      "source": [
        "For loops:"
      ]
    },
    {
      "cell_type": "code",
      "metadata": {
        "id": "WoAZtp2Lg4RI"
      },
      "source": [
        "#This `for` loop will run 5 times, and print out the value of `x` to the console. \n",
        "fav_foods.append('fish')\n",
        "fav_foods.append('chips')\n",
        "\n",
        "for food in fav_foods:\n",
        "    print(food + \" is good!\")"
      ],
      "execution_count": null,
      "outputs": []
    },
    {
      "cell_type": "markdown",
      "metadata": {
        "id": "cRRy74UxhApM"
      },
      "source": [
        "For loops are often used to loop through variables containing lists and dicts to get the individual values stored in them. We'll look at this soon!"
      ]
    },
    {
      "cell_type": "markdown",
      "metadata": {
        "id": "yO_-BxeghLwg"
      },
      "source": [
        "read more on for loops [here](https://www.w3schools.com/python/python_for_loops.asp)"
      ]
    },
    {
      "cell_type": "markdown",
      "metadata": {
        "id": "hgzxUhBshO4i"
      },
      "source": [
        "while loop:"
      ]
    },
    {
      "cell_type": "code",
      "metadata": {
        "id": "J0u3jo0ShMI2"
      },
      "source": [
        "count = 1\n",
        "\n",
        "while count <= 5:\n",
        "    print(count)\n",
        "    count += 1  # This is the same as count = count + 1"
      ],
      "execution_count": null,
      "outputs": []
    },
    {
      "cell_type": "code",
      "metadata": {
        "id": "7byYTD6gEjtA"
      },
      "source": [
        "pw = 'password'\n",
        "user_input = ''\n",
        "\n",
        "while user_input != pw:\n",
        "    user_input = input(\"Enter the correct password: \")\n",
        "\n",
        "print(\"you entered the right password\")\n",
        "\n",
        "\n",
        "1,2,fizz,4,buzz,fizz,7,8,fizz,buzz,11,fizz,13,14,fizzbuzz"
      ],
      "execution_count": null,
      "outputs": []
    },
    {
      "cell_type": "code",
      "metadata": {
        "id": "JCDFZEfF2GJ3"
      },
      "source": [
        "for i in range(101):\n",
        "  print(i)"
      ],
      "execution_count": null,
      "outputs": []
    },
    {
      "cell_type": "markdown",
      "metadata": {
        "id": "GCwOE08Bhaxn"
      },
      "source": [
        "read more on while loops [here](https://www.w3schools.com/python/python_while_loops.asp)"
      ]
    },
    {
      "cell_type": "markdown",
      "metadata": {
        "id": "n5vbjI_Vhe5j"
      },
      "source": [
        "### challenge\n",
        "[Fizzbuzz](https://en.wikipedia.org/wiki/Fizz_buzz) and variations of it is a popular interview question. \n",
        "\n",
        "\"From 1 to 100.\n",
        "\n",
        "For each multiple of 3, print \"Fizz\" instead of the number. \n",
        "\n",
        "For each multiple of 5, print \"Buzz\" instead of the number. \n",
        "\n",
        "For numbers which are multiples of both 3 and 5, print \"FizzBuzz\" instead of the number.\"\n",
        "\n",
        "Lets break it down and solve it together!\n"
      ]
    },
    {
      "cell_type": "code",
      "metadata": {
        "id": "6UY4wED-hbKM"
      },
      "source": [
        "# Lets do fizzbuzz!\n",
        "# How should break down this problem and start?\n",
        "\n",
        "# One hint: We're going to use range() function that will help us say how many times we want to iterate over something\n",
        "\n"
      ],
      "execution_count": null,
      "outputs": []
    },
    {
      "cell_type": "markdown",
      "metadata": {
        "id": "89O-nogVjDjE"
      },
      "source": [
        "## Iterating\n",
        "\n",
        "Now that we know about loops lets talk a bit more about iteration! \n",
        "\n",
        "Many objects may have data we want to iterate through to do something with it. Common iterables: Strings, Lists, Dicts, tuples.\n",
        "\n"
      ]
    },
    {
      "cell_type": "code",
      "metadata": {
        "id": "Vew6y2sTjJ4R"
      },
      "source": [
        "#lists:\n",
        "\n",
        "tvshows = ['West World','Mr. Robot', 'Game of Thrones']\n",
        "\n",
        "for x in tvshows:\n",
        "\tprint(x)\n"
      ],
      "execution_count": null,
      "outputs": []
    },
    {
      "cell_type": "code",
      "metadata": {
        "id": "OoCjOrChjJCb"
      },
      "source": [
        "# String\n",
        "# ['h','e','l','l','o']\n",
        "word = \"hello\"\n",
        "\n",
        "for x in word:\n",
        "\tprint(x)"
      ],
      "execution_count": null,
      "outputs": []
    },
    {
      "cell_type": "code",
      "metadata": {
        "id": "FJQkzc2ijF5U"
      },
      "source": [
        "#Dictionaries \n",
        "\n",
        "person =\t{\n",
        "  \"name\": \"Bob\",\n",
        "  \"age\": 50,\n",
        "  \"occupation\": 'programmer'\n",
        "}\n",
        "\n",
        "# get the values\n",
        "for x in person:\n",
        "\tprint(person[x])\n",
        "\t\n"
      ],
      "execution_count": null,
      "outputs": []
    },
    {
      "cell_type": "code",
      "metadata": {
        "id": "_lB6gbbrjdG4"
      },
      "source": [
        "# get the keys from dict\n",
        "for x in person:\n",
        "\tprint(x)\n",
        "\t"
      ],
      "execution_count": null,
      "outputs": []
    },
    {
      "cell_type": "code",
      "metadata": {
        "id": "OSiFql8n0_gl"
      },
      "source": [
        "person.keys()\n"
      ],
      "execution_count": null,
      "outputs": []
    },
    {
      "cell_type": "markdown",
      "metadata": {
        "id": "Qj33B_ovClbc"
      },
      "source": [
        "## Slicing\n",
        "\n",
        "We won't go too deep into this in this workshop but I want to introduce the idea of slicing.\n",
        "\n",
        "This can be used to access specific indexes of sequences like strings, and lists.\n"
      ]
    },
    {
      "cell_type": "code",
      "metadata": {
        "id": "jK43Iob-DDZh"
      },
      "source": [
        "string = \"batman\""
      ],
      "execution_count": null,
      "outputs": []
    },
    {
      "cell_type": "code",
      "metadata": {
        "id": "Q3VDmIyZDDbo"
      },
      "source": [
        "# instead of only accesing one value string[0]\n",
        "# We can access a range of values\n",
        "print(string[0:3])"
      ],
      "execution_count": null,
      "outputs": []
    },
    {
      "cell_type": "code",
      "metadata": {
        "id": "z6VuQsy1DDgE"
      },
      "source": [
        "array = ['hulu','netflix','HBO','Disney']"
      ],
      "execution_count": null,
      "outputs": []
    },
    {
      "cell_type": "code",
      "metadata": {
        "id": "PthwoaPqDDeD"
      },
      "source": [
        "print(array[0:3])"
      ],
      "execution_count": null,
      "outputs": []
    },
    {
      "cell_type": "markdown",
      "metadata": {
        "id": "-U7r9VqilUF-"
      },
      "source": [
        "### Guessing game\n",
        "\n",
        "Another example of putting things together\n"
      ]
    },
    {
      "cell_type": "code",
      "metadata": {
        "id": "HOEBpBD3lX-D"
      },
      "source": [
        "import random # we will cover importing libraries in next class!\n",
        "\n",
        "number = random.randint(1, 10)\n",
        "guess_count = 1\n",
        "guesses = 5\n",
        "\n",
        "\n",
        "# start while \n",
        "while True:\n",
        "  \n",
        "  guess = int(input(\"Guess the random number between 1 & 10: \"))\n",
        "  \n",
        "  if guess == number:\n",
        "    print(\"You got it! Great job!\")\n",
        "    break\n",
        "  \n",
        "  elif guess_count == 5:\n",
        "    print(\"you lose\")\n",
        "    break\n",
        "\n",
        "  elif guess < number:\n",
        "    print(\"Try something higher... you have {} guesses remaining!\".format(guesses - guess_count))\n",
        "    guess_count = guess_count + 1\n",
        "\n",
        "  elif guess > number:\n",
        "    print(\"Try something lower... you have {} guesses remaining!\".format(guesses - guess_count))\n",
        "    guess_count = guess_count + 1"
      ],
      "execution_count": null,
      "outputs": []
    },
    {
      "cell_type": "markdown",
      "metadata": {
        "id": "q-LnqcvwrAHn"
      },
      "source": [
        "What are some ideas for improvements? \n",
        "\n",
        "- Exit on command (look up `break` and python)\n",
        "- data validation\n",
        "- input the number range from user\n",
        "- output grammar depending on number of tries"
      ]
    },
    {
      "cell_type": "markdown",
      "metadata": {
        "id": "E30uGqS-fj-n"
      },
      "source": [
        "# Whats next?\n",
        "\n",
        "### Keep Learning:\n",
        "The most important thing to do it keep learning!\n",
        "- [RSVP for Intro to Python Part 2](https://www.eventbrite.com/e/intro-to-python-part-2-live-online-tickets-133027499833)\n",
        "- [RSVP for Intro to NLP](https://www.eventbrite.com/e/intro-to-natural-language-processing-nlp-live-online-tickets-133026059525)\n",
        "- [Data Science Prep Course](https://bit.ly/DSIPREP-32q7lQj) \n",
        "\n",
        "See all upcoming Galvanize online events [here](https://www.hackreactor.com/webinars)\n",
        "\n",
        "### Come challenge ideas:\n",
        "- Install python locally (look into using anaconda)\n",
        "- Use jupyter notebook\n",
        "- Try re-doing fizzbuzz from memory\n",
        "- Make updates to that guessing game above\n",
        "\n",
        "\n",
        "### Stay Connected:\n",
        "- Linkedin: [https://www.linkedin.com/in/andrewmeans/](https://www.linkedin.com/in/andrewmeans/)\n",
        "\n",
        "- email: andrew.means@galvanize.com\n",
        "\n",
        "\n"
      ]
    },
    {
      "cell_type": "code",
      "metadata": {
        "id": "FfFhpUztjY1y"
      },
      "source": [
        ""
      ],
      "execution_count": null,
      "outputs": []
    }
  ]
}